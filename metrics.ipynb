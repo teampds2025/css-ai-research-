{
 "cells": [
  {
   "metadata": {
    "ExecuteTime": {
     "end_time": "2025-10-21T22:35:47.013832Z",
     "start_time": "2025-10-21T22:35:46.644182Z"
    }
   },
   "cell_type": "code",
   "source": [
    "import pandas as pd\n",
    "import os"
   ],
   "id": "41930abb6bc95f48",
   "outputs": [],
   "execution_count": 1
  },
  {
   "metadata": {
    "ExecuteTime": {
     "end_time": "2025-10-21T22:35:51.129751Z",
     "start_time": "2025-10-21T22:35:51.126142Z"
    }
   },
   "cell_type": "code",
   "source": [
    "total_size_mb = 0\n",
    "total_rows = 0"
   ],
   "id": "df2263236cb9a344",
   "outputs": [],
   "execution_count": 2
  },
  {
   "metadata": {
    "ExecuteTime": {
     "end_time": "2025-10-21T22:35:51.630676Z",
     "start_time": "2025-10-21T22:35:51.627348Z"
    }
   },
   "cell_type": "code",
   "source": "# 1. stats for submissions",
   "id": "e1529d40e75eebd6",
   "outputs": [],
   "execution_count": 3
  },
  {
   "metadata": {
    "ExecuteTime": {
     "end_time": "2025-10-21T22:35:52.170420Z",
     "start_time": "2025-10-21T22:35:52.166336Z"
    }
   },
   "cell_type": "code",
   "source": [
    "size_mb_rs = os.path.getsize('all_submissions_cleaned.parquet') / (1024 * 1024)\n",
    "total_size_mb += size_mb_rs\n",
    "print(f\"Total data size: {size_mb_rs:.2f} MB\")"
   ],
   "id": "ced7a21c6d627e5f",
   "outputs": [
    {
     "name": "stdout",
     "output_type": "stream",
     "text": [
      "Total data size: 107.73 MB\n"
     ]
    }
   ],
   "execution_count": 4
  },
  {
   "metadata": {
    "ExecuteTime": {
     "end_time": "2025-10-21T22:35:54.973246Z",
     "start_time": "2025-10-21T22:35:54.004416Z"
    }
   },
   "cell_type": "code",
   "source": "df_rs = pd.read_parquet('all_submissions_cleaned.parquet')",
   "id": "2c2b66adc99bf41c",
   "outputs": [],
   "execution_count": 5
  },
  {
   "metadata": {
    "ExecuteTime": {
     "end_time": "2025-10-21T22:35:55.642835Z",
     "start_time": "2025-10-21T22:35:55.638767Z"
    }
   },
   "cell_type": "code",
   "source": [
    "num_rows_rs = len(df_rs)\n",
    "total_rows += num_rows_rs\n",
    "print(f\"Number of rows: {num_rows_rs:,}\")"
   ],
   "id": "e54828ab7a610a33",
   "outputs": [
    {
     "name": "stdout",
     "output_type": "stream",
     "text": [
      "Number of rows: 392,439\n"
     ]
    }
   ],
   "execution_count": 6
  },
  {
   "metadata": {
    "ExecuteTime": {
     "end_time": "2025-10-21T22:35:57.458456Z",
     "start_time": "2025-10-21T22:35:57.372419Z"
    }
   },
   "cell_type": "code",
   "source": [
    "print(\"Records per subreddit:\")\n",
    "print(df_rs['subreddit'].str.lower().value_counts())"
   ],
   "id": "397d52c219533290",
   "outputs": [
    {
     "name": "stdout",
     "output_type": "stream",
     "text": [
      "Records per subreddit:\n",
      "subreddit\n",
      "characterai              152055\n",
      "chatgpt                   92483\n",
      "lonely                    49420\n",
      "janitorai_official        27659\n",
      "fanfiction                19391\n",
      "singularity               17002\n",
      "artificialinteligence     15540\n",
      "localllama                14701\n",
      "sillytavernai              3913\n",
      "myboyfriendisai             275\n",
      "Name: count, dtype: int64\n"
     ]
    }
   ],
   "execution_count": 7
  },
  {
   "metadata": {
    "ExecuteTime": {
     "end_time": "2025-10-21T22:36:12.510687Z",
     "start_time": "2025-10-21T22:36:12.506227Z"
    }
   },
   "cell_type": "code",
   "source": "# 2. stats for comments",
   "id": "f02ac611a42483dd",
   "outputs": [],
   "execution_count": 8
  },
  {
   "metadata": {
    "ExecuteTime": {
     "end_time": "2025-10-21T22:36:13.319060Z",
     "start_time": "2025-10-21T22:36:13.315268Z"
    }
   },
   "cell_type": "code",
   "source": [
    "size_mb_rc = os.path.getsize('all_comments_cleaned.parquet') / (1024 * 1024)\n",
    "total_size_mb += size_mb_rc\n",
    "print(f\"Total data size: {size_mb_rc:.2f} MB\")"
   ],
   "id": "56676ecec5d8eaf9",
   "outputs": [
    {
     "name": "stdout",
     "output_type": "stream",
     "text": [
      "Total data size: 584.02 MB\n"
     ]
    }
   ],
   "execution_count": 9
  },
  {
   "metadata": {
    "ExecuteTime": {
     "end_time": "2025-10-21T22:36:22.257689Z",
     "start_time": "2025-10-21T22:36:16.565219Z"
    }
   },
   "cell_type": "code",
   "source": "df_rc = pd.read_parquet('all_comments_cleaned.parquet')",
   "id": "a06cfeedd3117200",
   "outputs": [],
   "execution_count": 10
  },
  {
   "metadata": {
    "ExecuteTime": {
     "end_time": "2025-10-21T22:36:25.598316Z",
     "start_time": "2025-10-21T22:36:25.593361Z"
    }
   },
   "cell_type": "code",
   "source": [
    "num_rows_rc = len(df_rc)\n",
    "total_rows += num_rows_rc\n",
    "print(f\"Number of rows: {num_rows_rc:,}\")"
   ],
   "id": "239ba63787caaf1f",
   "outputs": [
    {
     "name": "stdout",
     "output_type": "stream",
     "text": [
      "Number of rows: 3,955,713\n"
     ]
    }
   ],
   "execution_count": 11
  },
  {
   "metadata": {
    "ExecuteTime": {
     "end_time": "2025-10-21T22:36:28.039938Z",
     "start_time": "2025-10-21T22:36:27.257205Z"
    }
   },
   "cell_type": "code",
   "source": [
    "print(\"Records per subreddit:\")\n",
    "print(df_rc['subreddit'].str.lower().value_counts())"
   ],
   "id": "4066879a921f759a",
   "outputs": [
    {
     "name": "stdout",
     "output_type": "stream",
     "text": [
      "Records per subreddit:\n",
      "subreddit\n",
      "chatgpt                  1193997\n",
      "characterai               975955\n",
      "singularity               558560\n",
      "fanfiction                418063\n",
      "lonely                    295107\n",
      "localllama                218336\n",
      "janitorai_official        144388\n",
      "artificialinteligence     113331\n",
      "sillytavernai              33672\n",
      "myboyfriendisai             4304\n",
      "Name: count, dtype: int64\n"
     ]
    }
   ],
   "execution_count": 12
  },
  {
   "metadata": {
    "ExecuteTime": {
     "end_time": "2025-10-21T22:36:32.451369Z",
     "start_time": "2025-10-21T22:36:32.448650Z"
    }
   },
   "cell_type": "code",
   "source": "# 3. RS + RC stats",
   "id": "a58927a6aa0e92fd",
   "outputs": [],
   "execution_count": 13
  },
  {
   "metadata": {
    "ExecuteTime": {
     "end_time": "2025-10-21T22:36:33.122355Z",
     "start_time": "2025-10-21T22:36:33.118433Z"
    }
   },
   "cell_type": "code",
   "source": [
    "print(f\"Total data size: {total_size_mb:.2f} MB\")\n",
    "print(f\"Total number of rows: {total_rows:,}\")"
   ],
   "id": "70e6567b4125d80f",
   "outputs": [
    {
     "name": "stdout",
     "output_type": "stream",
     "text": [
      "Total data size: 691.75 MB\n",
      "Total number of rows: 4,348,152\n"
     ]
    }
   ],
   "execution_count": 14
  },
  {
   "metadata": {
    "ExecuteTime": {
     "end_time": "2025-10-21T22:55:35.614400Z",
     "start_time": "2025-10-21T22:55:35.537058Z"
    }
   },
   "cell_type": "code",
   "source": "df_rc",
   "id": "54ae1991eee26c3c",
   "outputs": [
    {
     "data": {
      "text/plain": [
       "              id  link_id parent_id         created_utc                author  \\\n",
       "0        jidcsdn  13472sp   13472sp 2023-05-01 00:00:04         AutoModerator   \n",
       "1        jidcsp6  13472v3   13472v3 2023-05-01 00:00:08         AutoModerator   \n",
       "2        jidcszu  10ntxqk   10ntxqk 2023-05-01 00:00:12         ssneakylinkss   \n",
       "3        jidctys  133mc2v   jibo8t5 2023-05-01 00:00:24            pidgey2020   \n",
       "4        jidcufo  133se2y   jibsv7k 2023-05-01 00:00:31           Ackermannin   \n",
       "...          ...      ...       ...                 ...                   ...   \n",
       "3955708  kfrotmi  18v8p8m   kfpin5w 2023-12-31 23:59:20  Tiny-Dragonfruit-918   \n",
       "3955709  kfrove9  18vdks0   18vdks0 2023-12-31 23:59:41         cockroachm1lk   \n",
       "3955710  kfrow69  16ni8ro   kfrm0fk 2023-12-31 23:59:51              Baticula   \n",
       "3955711  kfrowea  18vcqc5   18vcqc5 2023-12-31 23:59:54          CupOfCowffee   \n",
       "3955712  kfrowf7  18vewbm   kfrfvcj 2023-12-31 23:59:54         MistressAerie   \n",
       "\n",
       "                     subreddit  \\\n",
       "0                      ChatGPT   \n",
       "1        ArtificialInteligence   \n",
       "2                      ChatGPT   \n",
       "3                      ChatGPT   \n",
       "4                   FanFiction   \n",
       "...                        ...   \n",
       "3955708            CharacterAI   \n",
       "3955709            CharacterAI   \n",
       "3955710            CharacterAI   \n",
       "3955711            CharacterAI   \n",
       "3955712            CharacterAI   \n",
       "\n",
       "                                                      body  score  \n",
       "0        Hey /u/Amazing-Nose-92, please respond to this...      1  \n",
       "1        ## Welcome to the r/ArtificialIntelligence gat...      1  \n",
       "2        Try this  \\nAre you done writing this code?  \\...      1  \n",
       "3        Hey can you provide an accurate description of...      4  \n",
       "4                       I… oh god how bad… do I even dare?      3  \n",
       "...                                                    ...    ...  \n",
       "3955708  https://preview.redd.it/0xs17uekyp9c1.jpeg?wid...      7  \n",
       "3955709                                 Miles Edgeworth 🫶🏻      1  \n",
       "3955710  My whole problem is I do like roleplays where ...      1  \n",
       "3955711                                     Phoenix Wright      1  \n",
       "3955712                                                  🥰      1  \n",
       "\n",
       "[3955713 rows x 8 columns]"
      ],
      "text/html": [
       "<div>\n",
       "<style scoped>\n",
       "    .dataframe tbody tr th:only-of-type {\n",
       "        vertical-align: middle;\n",
       "    }\n",
       "\n",
       "    .dataframe tbody tr th {\n",
       "        vertical-align: top;\n",
       "    }\n",
       "\n",
       "    .dataframe thead th {\n",
       "        text-align: right;\n",
       "    }\n",
       "</style>\n",
       "<table border=\"1\" class=\"dataframe\">\n",
       "  <thead>\n",
       "    <tr style=\"text-align: right;\">\n",
       "      <th></th>\n",
       "      <th>id</th>\n",
       "      <th>link_id</th>\n",
       "      <th>parent_id</th>\n",
       "      <th>created_utc</th>\n",
       "      <th>author</th>\n",
       "      <th>subreddit</th>\n",
       "      <th>body</th>\n",
       "      <th>score</th>\n",
       "    </tr>\n",
       "  </thead>\n",
       "  <tbody>\n",
       "    <tr>\n",
       "      <th>0</th>\n",
       "      <td>jidcsdn</td>\n",
       "      <td>13472sp</td>\n",
       "      <td>13472sp</td>\n",
       "      <td>2023-05-01 00:00:04</td>\n",
       "      <td>AutoModerator</td>\n",
       "      <td>ChatGPT</td>\n",
       "      <td>Hey /u/Amazing-Nose-92, please respond to this...</td>\n",
       "      <td>1</td>\n",
       "    </tr>\n",
       "    <tr>\n",
       "      <th>1</th>\n",
       "      <td>jidcsp6</td>\n",
       "      <td>13472v3</td>\n",
       "      <td>13472v3</td>\n",
       "      <td>2023-05-01 00:00:08</td>\n",
       "      <td>AutoModerator</td>\n",
       "      <td>ArtificialInteligence</td>\n",
       "      <td>## Welcome to the r/ArtificialIntelligence gat...</td>\n",
       "      <td>1</td>\n",
       "    </tr>\n",
       "    <tr>\n",
       "      <th>2</th>\n",
       "      <td>jidcszu</td>\n",
       "      <td>10ntxqk</td>\n",
       "      <td>10ntxqk</td>\n",
       "      <td>2023-05-01 00:00:12</td>\n",
       "      <td>ssneakylinkss</td>\n",
       "      <td>ChatGPT</td>\n",
       "      <td>Try this  \\nAre you done writing this code?  \\...</td>\n",
       "      <td>1</td>\n",
       "    </tr>\n",
       "    <tr>\n",
       "      <th>3</th>\n",
       "      <td>jidctys</td>\n",
       "      <td>133mc2v</td>\n",
       "      <td>jibo8t5</td>\n",
       "      <td>2023-05-01 00:00:24</td>\n",
       "      <td>pidgey2020</td>\n",
       "      <td>ChatGPT</td>\n",
       "      <td>Hey can you provide an accurate description of...</td>\n",
       "      <td>4</td>\n",
       "    </tr>\n",
       "    <tr>\n",
       "      <th>4</th>\n",
       "      <td>jidcufo</td>\n",
       "      <td>133se2y</td>\n",
       "      <td>jibsv7k</td>\n",
       "      <td>2023-05-01 00:00:31</td>\n",
       "      <td>Ackermannin</td>\n",
       "      <td>FanFiction</td>\n",
       "      <td>I… oh god how bad… do I even dare?</td>\n",
       "      <td>3</td>\n",
       "    </tr>\n",
       "    <tr>\n",
       "      <th>...</th>\n",
       "      <td>...</td>\n",
       "      <td>...</td>\n",
       "      <td>...</td>\n",
       "      <td>...</td>\n",
       "      <td>...</td>\n",
       "      <td>...</td>\n",
       "      <td>...</td>\n",
       "      <td>...</td>\n",
       "    </tr>\n",
       "    <tr>\n",
       "      <th>3955708</th>\n",
       "      <td>kfrotmi</td>\n",
       "      <td>18v8p8m</td>\n",
       "      <td>kfpin5w</td>\n",
       "      <td>2023-12-31 23:59:20</td>\n",
       "      <td>Tiny-Dragonfruit-918</td>\n",
       "      <td>CharacterAI</td>\n",
       "      <td>https://preview.redd.it/0xs17uekyp9c1.jpeg?wid...</td>\n",
       "      <td>7</td>\n",
       "    </tr>\n",
       "    <tr>\n",
       "      <th>3955709</th>\n",
       "      <td>kfrove9</td>\n",
       "      <td>18vdks0</td>\n",
       "      <td>18vdks0</td>\n",
       "      <td>2023-12-31 23:59:41</td>\n",
       "      <td>cockroachm1lk</td>\n",
       "      <td>CharacterAI</td>\n",
       "      <td>Miles Edgeworth 🫶🏻</td>\n",
       "      <td>1</td>\n",
       "    </tr>\n",
       "    <tr>\n",
       "      <th>3955710</th>\n",
       "      <td>kfrow69</td>\n",
       "      <td>16ni8ro</td>\n",
       "      <td>kfrm0fk</td>\n",
       "      <td>2023-12-31 23:59:51</td>\n",
       "      <td>Baticula</td>\n",
       "      <td>CharacterAI</td>\n",
       "      <td>My whole problem is I do like roleplays where ...</td>\n",
       "      <td>1</td>\n",
       "    </tr>\n",
       "    <tr>\n",
       "      <th>3955711</th>\n",
       "      <td>kfrowea</td>\n",
       "      <td>18vcqc5</td>\n",
       "      <td>18vcqc5</td>\n",
       "      <td>2023-12-31 23:59:54</td>\n",
       "      <td>CupOfCowffee</td>\n",
       "      <td>CharacterAI</td>\n",
       "      <td>Phoenix Wright</td>\n",
       "      <td>1</td>\n",
       "    </tr>\n",
       "    <tr>\n",
       "      <th>3955712</th>\n",
       "      <td>kfrowf7</td>\n",
       "      <td>18vewbm</td>\n",
       "      <td>kfrfvcj</td>\n",
       "      <td>2023-12-31 23:59:54</td>\n",
       "      <td>MistressAerie</td>\n",
       "      <td>CharacterAI</td>\n",
       "      <td>🥰</td>\n",
       "      <td>1</td>\n",
       "    </tr>\n",
       "  </tbody>\n",
       "</table>\n",
       "<p>3955713 rows × 8 columns</p>\n",
       "</div>"
      ]
     },
     "execution_count": 15,
     "metadata": {},
     "output_type": "execute_result"
    }
   ],
   "execution_count": 15
  },
  {
   "metadata": {},
   "cell_type": "code",
   "outputs": [],
   "execution_count": null,
   "source": "",
   "id": "50f76442ca0a163"
  }
 ],
 "metadata": {
  "kernelspec": {
   "display_name": "Python 3",
   "language": "python",
   "name": "python3"
  },
  "language_info": {
   "codemirror_mode": {
    "name": "ipython",
    "version": 2
   },
   "file_extension": ".py",
   "mimetype": "text/x-python",
   "name": "python",
   "nbconvert_exporter": "python",
   "pygments_lexer": "ipython2",
   "version": "2.7.6"
  }
 },
 "nbformat": 4,
 "nbformat_minor": 5
}
